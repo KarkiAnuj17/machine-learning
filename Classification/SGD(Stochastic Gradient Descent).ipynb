{
 "cells": [
  {
   "cell_type": "code",
   "execution_count": 45,
   "id": "19db1760-18d5-400e-9d8c-5a42e1fa8c50",
   "metadata": {},
   "outputs": [],
   "source": [
    "import pandas as pd\n",
    "import numpy as np\n",
    "import matplotlib.pyplot as plt\n",
    "import seaborn as sns\n",
    "from sklearn import datasets\n",
    "from sklearn.model_selection import train_test_split"
   ]
  },
  {
   "cell_type": "code",
   "execution_count": 47,
   "id": "6b1d2a6e-98d5-49cb-9f10-c7478ec9b454",
   "metadata": {},
   "outputs": [],
   "source": [
    "bc = datasets.load_breast_cancer()\n",
    "X= bc.data\n",
    "y = bc.target"
   ]
  },
  {
   "cell_type": "code",
   "execution_count": 39,
   "id": "14486d01-24a6-420b-b531-01911e1d5bd8",
   "metadata": {},
   "outputs": [],
   "source": [
    "X_train, X_test, y_train, y_test = train_test_split(X, y, test_size=0.3, random_state=42 , stratify = y)"
   ]
  },
  {
   "cell_type": "code",
   "execution_count": 48,
   "id": "2a9c16aa-c9de-45d5-a4de-b0215d0db1c9",
   "metadata": {},
   "outputs": [],
   "source": [
    "import numpy as np\n",
    "\n",
    "class CustomPerceptron(object):\n",
    "    # initiate\n",
    "    def __init__(self, n_iterations=100, random_state=1, learning_rate=0.01):\n",
    "        self.n_iterations = n_iterations\n",
    "        self.random_state = random_state\n",
    "        self.learning_rate = learning_rate\n",
    "\n",
    "    # fitting\n",
    "    def fit(self, X, y):\n",
    "        rgen = np.random.RandomState(self.random_state)\n",
    "        self.coef_ = rgen.normal(loc=0.0, scale=0.01, size=1 + X.shape[1])\n",
    "        for _ in range(self.n_iterations):\n",
    "            for xi, expected_value in zip(X, y):\n",
    "                predicted_value = self.predict(xi)\n",
    "                update = self.learning_rate * (expected_value - predicted_value)\n",
    "                self.coef_[1:] += update * xi\n",
    "                self.coef_[0] += update\n",
    "\n",
    "    def activation(self, X):\n",
    "        return np.dot(X, self.coef_[1:]) + self.coef_[0]\n",
    "\n",
    "    def predict(self, X):\n",
    "        output = self.activation(X)\n",
    "        return np.where(output > 0.0, 1, 0)\n",
    "\n",
    "    def score(self, X, y):\n",
    "        misclassified_data_count = 0\n",
    "        for xi, target in zip(X, y):\n",
    "            output = self.predict(xi)\n",
    "            if target != output:\n",
    "                misclassified_data_count += 1\n",
    "        total_data_count = len(X)\n",
    "        self.score_ = (total_data_count - misclassified_data_count) / total_data_count\n",
    "        return self.score_\n"
   ]
  },
  {
   "cell_type": "code",
   "execution_count": 49,
   "id": "f762b97b-d831-47c4-a07d-ae265bcdfe73",
   "metadata": {},
   "outputs": [],
   "source": [
    "n_iterations = 100\n",
    "learning_rate = 0.01"
   ]
  },
  {
   "cell_type": "code",
   "execution_count": 50,
   "id": "0b0bebba-f618-40da-bc4f-6d5a21aaf65e",
   "metadata": {},
   "outputs": [],
   "source": [
    "prcptrn = CustomPerceptron()\n",
    "prcptrn.fit (X_train , y_train)"
   ]
  },
  {
   "cell_type": "code",
   "execution_count": 51,
   "id": "c0c55e0a-201a-434b-8f72-3311047f30f9",
   "metadata": {},
   "outputs": [
    {
     "name": "stdout",
     "output_type": "stream",
     "text": [
      "0.9064327485380117\n"
     ]
    },
    {
     "data": {
      "text/plain": [
       "0.9296482412060302"
      ]
     },
     "execution_count": 51,
     "metadata": {},
     "output_type": "execute_result"
    }
   ],
   "source": [
    "print(prcptrn.score(X_test , y_test))\n",
    "prcptrn.score(X_train , y_train)"
   ]
  },
  {
   "cell_type": "code",
   "execution_count": null,
   "id": "b5c9743a-8ed6-4734-975f-6291f11cdaab",
   "metadata": {},
   "outputs": [],
   "source": []
  },
  {
   "cell_type": "code",
   "execution_count": null,
   "id": "f8707095-8b4e-433e-8826-515b0df9275e",
   "metadata": {},
   "outputs": [],
   "source": []
  },
  {
   "cell_type": "code",
   "execution_count": null,
   "id": "2c88ffdf-f681-456e-8084-1dd25c64e510",
   "metadata": {},
   "outputs": [],
   "source": []
  }
 ],
 "metadata": {
  "kernelspec": {
   "display_name": "Python 3 (ipykernel)",
   "language": "python",
   "name": "python3"
  },
  "language_info": {
   "codemirror_mode": {
    "name": "ipython",
    "version": 3
   },
   "file_extension": ".py",
   "mimetype": "text/x-python",
   "name": "python",
   "nbconvert_exporter": "python",
   "pygments_lexer": "ipython3",
   "version": "3.12.3"
  }
 },
 "nbformat": 4,
 "nbformat_minor": 5
}
